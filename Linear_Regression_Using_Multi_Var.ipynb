{
  "nbformat": 4,
  "nbformat_minor": 0,
  "metadata": {
    "colab": {
      "provenance": [],
      "authorship_tag": "ABX9TyP7btA5vn38v3tH0MY2OGYa",
      "include_colab_link": true
    },
    "kernelspec": {
      "name": "python3",
      "display_name": "Python 3"
    },
    "language_info": {
      "name": "python"
    }
  },
  "cells": [
    {
      "cell_type": "markdown",
      "metadata": {
        "id": "view-in-github",
        "colab_type": "text"
      },
      "source": [
        "<a href=\"https://colab.research.google.com/github/Auzek2002/Linear_Regression_Multi_Var_ML/blob/main/Linear_Regression_Using_Multi_Var.ipynb\" target=\"_parent\"><img src=\"https://colab.research.google.com/assets/colab-badge.svg\" alt=\"Open In Colab\"/></a>"
      ]
    },
    {
      "cell_type": "markdown",
      "source": [
        "Importing Libraries:\n"
      ],
      "metadata": {
        "id": "LDPQXYHishu3"
      }
    },
    {
      "cell_type": "code",
      "source": [
        "import numpy as np\n",
        "import math,copy\n",
        "import matplotlib.pyplot as plt"
      ],
      "metadata": {
        "id": "ddPkWeIRsktN"
      },
      "execution_count": 4,
      "outputs": []
    },
    {
      "cell_type": "markdown",
      "source": [
        "Model: f(w(v),b) = w(v) * x(v) + b (Where (v) represents a vector)"
      ],
      "metadata": {
        "id": "vNTQunpZsr_E"
      }
    },
    {
      "cell_type": "markdown",
      "source": [
        "Some Test Data:"
      ],
      "metadata": {
        "id": "off5QZPDtwU-"
      }
    },
    {
      "cell_type": "code",
      "source": [
        "X_train = np.array([[2104, 5, 1, 45], [1416, 3, 2, 40], [852, 2, 1, 35]])\n",
        "y_train = np.array([460, 232, 178])"
      ],
      "metadata": {
        "id": "jeT6JkUot4AT"
      },
      "execution_count": 5,
      "outputs": []
    },
    {
      "cell_type": "markdown",
      "source": [
        "Computing Cost:"
      ],
      "metadata": {
        "id": "w0rHZhZUt9Tv"
      }
    },
    {
      "cell_type": "code",
      "source": [
        "def compute_cost(X,y,w,b):\n",
        "  m = X.shape[0]\n",
        "  cost =0\n",
        "\n",
        "  for i in range (m):\n",
        "    f_wb = np.dot(X[i],w)+b\n",
        "    cost += (f_wb - y[i])**2\n",
        "\n",
        "  total_cost = cost\n",
        "  total_cost = total_cost/(2*m)\n",
        "  return total_cost"
      ],
      "metadata": {
        "id": "8PqycKb7t-5a"
      },
      "execution_count": 6,
      "outputs": []
    },
    {
      "cell_type": "markdown",
      "source": [
        "Computing Gradients:"
      ],
      "metadata": {
        "id": "Fhj-rn7Xu50_"
      }
    },
    {
      "cell_type": "code",
      "source": [
        "def compute_gradient(X,y,w,b):\n",
        "  m,n = X.shape\n",
        "  dj_dw= np.zeros((n,)) #total number of w is the number of features therefore, using the number of cols\n",
        "  dj_db=0\n",
        "\n",
        "  for i in range (m):\n",
        "    err = (np.dot(X[i],w)+b) - y[i]\n",
        "    for j in range (n):\n",
        "      dj_dw[j] += err * X[i,j]\n",
        "    dj_db += err\n",
        "\n",
        "  dj_dw = dj_dw/m\n",
        "  dj_db = dj_db/m\n",
        "  return dj_dw, dj_db"
      ],
      "metadata": {
        "id": "rXjVHVkxvBzW"
      },
      "execution_count": 7,
      "outputs": []
    },
    {
      "cell_type": "markdown",
      "source": [
        "Implementing Gradient Descent:"
      ],
      "metadata": {
        "id": "cnEbp13Swc6y"
      }
    },
    {
      "cell_type": "code",
      "source": [
        "def gradient_descent(X,y,w_in,b_in,cost_function,gradient_function,alpha,num_iters):\n",
        "  w=copy.deepcopy(w_in)\n",
        "  b=0\n",
        "  j_history=[]\n",
        "\n",
        "  for i in range (num_iters):\n",
        "    dj_dw, dj_db = gradient_function(X,y,w,b)\n",
        "\n",
        "    w = w - alpha*dj_dw\n",
        "    b = b - alpha*dj_db\n",
        "\n",
        "    if i < 10000:\n",
        "      j_history.append(cost_function(X,y,w,b))\n",
        "\n",
        "    if i % math.ceil(num_iters/10) == 0:\n",
        "      print(f\"Iteration: {i:4d}, Cost: {j_history[-1]:8.2f}\")\n",
        "\n",
        "  return w,b,j_history"
      ],
      "metadata": {
        "id": "rVj0t-Y3wgx3"
      },
      "execution_count": 8,
      "outputs": []
    },
    {
      "cell_type": "code",
      "source": [
        "w_i = np.array([ 0.39133535, 18.75376741, -53.36032453, -26.42131618])\n",
        "w_init=np.zeros_like(w_i)\n",
        "b_init=0.\n",
        "alpha = 5.0e-7\n",
        "iterations=1000\n",
        "w_final,b_final,j_hist = gradient_descent(X_train,y_train,w_init,b_init,compute_cost,compute_gradient,alpha,iterations);\n",
        "m= X_train.shape[0]\n",
        "for i in range (m):\n",
        "  print(f\"Prediction: {np.dot(X_train[i],w_final)+b_final} vs Actual: {y_train[i]}\")"
      ],
      "metadata": {
        "colab": {
          "base_uri": "https://localhost:8080/"
        },
        "id": "hyFYXVmfywTb",
        "outputId": "8ce1b9f5-4c05-4950-a3b3-a4bd95ae9abc"
      },
      "execution_count": 9,
      "outputs": [
        {
          "output_type": "stream",
          "name": "stdout",
          "text": [
            "Iteration:    0, Cost:  2529.46\n",
            "Iteration:  100, Cost:   695.99\n",
            "Iteration:  200, Cost:   694.92\n",
            "Iteration:  300, Cost:   693.86\n",
            "Iteration:  400, Cost:   692.81\n",
            "Iteration:  500, Cost:   691.77\n",
            "Iteration:  600, Cost:   690.73\n",
            "Iteration:  700, Cost:   689.71\n",
            "Iteration:  800, Cost:   688.70\n",
            "Iteration:  900, Cost:   687.69\n",
            "Prediction: 426.18530497189204 vs Actual: 460\n",
            "Prediction: 286.1674720078562 vs Actual: 232\n",
            "Prediction: 171.46763087132317 vs Actual: 178\n"
          ]
        }
      ]
    },
    {
      "cell_type": "code",
      "source": [],
      "metadata": {
        "id": "DzkQDWJ8zUOq"
      },
      "execution_count": null,
      "outputs": []
    }
  ]
}